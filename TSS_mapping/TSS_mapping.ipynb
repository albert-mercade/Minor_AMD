{
 "cells": [
  {
   "cell_type": "markdown",
   "metadata": {},
   "source": [
    "## TSS mapping\n",
    "### Add potential TSSs and TTSs and obtain the type of the TSSs (individual gene - wise)"
   ]
  },
  {
   "cell_type": "code",
   "execution_count": 2,
   "metadata": {},
   "outputs": [],
   "source": [
    "# Import the required libraries\n",
    "import pandas as pd \n",
    "import numpy as np\n",
    "import matplotlib.pyplot as plt"
   ]
  },
  {
   "cell_type": "code",
   "execution_count": 3,
   "metadata": {},
   "outputs": [
    {
     "data": {
      "text/html": [
       "<div>\n",
       "<style scoped>\n",
       "    .dataframe tbody tr th:only-of-type {\n",
       "        vertical-align: middle;\n",
       "    }\n",
       "\n",
       "    .dataframe tbody tr th {\n",
       "        vertical-align: top;\n",
       "    }\n",
       "\n",
       "    .dataframe thead th {\n",
       "        text-align: right;\n",
       "    }\n",
       "</style>\n",
       "<table border=\"1\" class=\"dataframe\">\n",
       "  <thead>\n",
       "    <tr style=\"text-align: right;\">\n",
       "      <th></th>\n",
       "      <th>type</th>\n",
       "      <th>start</th>\n",
       "      <th>end</th>\n",
       "      <th>strand</th>\n",
       "      <th>gene_name</th>\n",
       "    </tr>\n",
       "  </thead>\n",
       "  <tbody>\n",
       "    <tr>\n",
       "      <th>0</th>\n",
       "      <td>CDS</td>\n",
       "      <td>1</td>\n",
       "      <td>1524</td>\n",
       "      <td>+</td>\n",
       "      <td>dnaA</td>\n",
       "    </tr>\n",
       "    <tr>\n",
       "      <th>1</th>\n",
       "      <td>CDS</td>\n",
       "      <td>2052</td>\n",
       "      <td>3260</td>\n",
       "      <td>+</td>\n",
       "      <td>dnaN</td>\n",
       "    </tr>\n",
       "    <tr>\n",
       "      <th>2</th>\n",
       "      <td>CDS</td>\n",
       "      <td>3280</td>\n",
       "      <td>4437</td>\n",
       "      <td>+</td>\n",
       "      <td>recF</td>\n",
       "    </tr>\n",
       "    <tr>\n",
       "      <th>3</th>\n",
       "      <td>CDS</td>\n",
       "      <td>4434</td>\n",
       "      <td>4997</td>\n",
       "      <td>+</td>\n",
       "      <td>MB0004</td>\n",
       "    </tr>\n",
       "    <tr>\n",
       "      <th>4</th>\n",
       "      <td>CDS</td>\n",
       "      <td>5123</td>\n",
       "      <td>7267</td>\n",
       "      <td>+</td>\n",
       "      <td>gyrB</td>\n",
       "    </tr>\n",
       "  </tbody>\n",
       "</table>\n",
       "</div>"
      ],
      "text/plain": [
       "  type  start   end strand gene_name\n",
       "0  CDS      1  1524      +      dnaA\n",
       "1  CDS   2052  3260      +      dnaN\n",
       "2  CDS   3280  4437      +      recF\n",
       "3  CDS   4434  4997      +    MB0004\n",
       "4  CDS   5123  7267      +      gyrB"
      ]
     },
     "execution_count": 3,
     "metadata": {},
     "output_type": "execute_result"
    }
   ],
   "source": [
    "# Load the data\n",
    "gene_depth_KO1 = pd.read_csv(\"Data_outputs/Depth_and_genes/genes_depth_KO1.txt\")\n",
    "gene_depth_KO2 = pd.read_csv(\"Data_outputs/Depth_and_genes/genes_depth_KO2.txt\")\n",
    "gene_depth_KO3 = pd.read_csv(\"Data_outputs/Depth_and_genes/genes_depth_KO3.txt\")\n",
    "gene_depth_WT1 = pd.read_csv(\"Data_outputs/Depth_and_genes/genes_depth_WT1.txt\")\n",
    "gene_depth_WT2 = pd.read_csv(\"Data_outputs/Depth_and_genes/genes_depth_WT2.txt\")\n",
    "gene_depth_WT3 = pd.read_csv(\"Data_outputs/Depth_and_genes/genes_depth_WT3.txt\")\n",
    "\n",
    "anot_file = pd.read_excel(\"Data_outputs/anot_file.xlsx\")\n",
    "anot_file = anot_file.drop(anot_file.columns[0], axis = 1)\n",
    "\n",
    "# gene_depth_KO1.head(5)  # Data is properly loaded\n",
    "anot_file.head(5)"
   ]
  },
  {
   "cell_type": "markdown",
   "metadata": {},
   "source": [
    "1. Add potential TSSs in the depth file:\n",
    "    - Computation of the percentage of increase and decrease:"
   ]
  },
  {
   "cell_type": "code",
   "execution_count": 4,
   "metadata": {},
   "outputs": [],
   "source": [
    "# Define function that calculates the % of increase and decrease per each dataframe. \n",
    "def per_of_inc(data):\n",
    "    \"\"\"Return the data frame with the % of increase of the depth\"\"\"\n",
    "\n",
    "    data[\"Depth_diff\"] = data[\"Depth\"].diff()\n",
    "    data[\"Depth_per_inc\"] = (data[\"Depth_diff\"] / data[\"Depth\"].shift(1)) * 100  #Shift is used in data frames to shift the row values (if it's positive its moves the rows down)\n",
    "\n",
    "    return data\n",
    "\n",
    "gene_depth_KO1 = per_of_inc(gene_depth_KO1)\n",
    "gene_depth_KO2 = per_of_inc(gene_depth_KO2)\n",
    "gene_depth_KO3 = per_of_inc(gene_depth_KO3)\n",
    "gene_depth_WT1 = per_of_inc(gene_depth_WT1)\n",
    "gene_depth_WT2 = per_of_inc(gene_depth_WT2)\n",
    "gene_depth_WT3 = per_of_inc(gene_depth_WT3)"
   ]
  },
  {
   "cell_type": "code",
   "execution_count": 5,
   "metadata": {},
   "outputs": [],
   "source": [
    "# gene_depth_KO1.head(10)"
   ]
  },
  {
   "cell_type": "markdown",
   "metadata": {},
   "source": [
    "- % of increase = 50% -> subsequent value has increased by half of its original value.\n",
    "- % of decrease = 50% -> subsequent value has reduced to half of its original value.\n",
    "\n",
    "- % of increase = 100% -> subsequent value is doubled\n",
    "- % of decrease = 100% -> subsequent value is completely reduced to 0. \n",
    "\n",
    "(My % of decreae is negative becuase the operation is (current - old) in the numerator)"
   ]
  },
  {
   "cell_type": "code",
   "execution_count": 6,
   "metadata": {},
   "outputs": [],
   "source": [
    "def TSS_TTS_anotation(data):\n",
    "    \"\"\"Performs TSS and TTS annotation, removes consecutive TUs, and cleans up TUs based on depth values\"\"\"   \n",
    "    \n",
    "    def TSSs_anot(data):\n",
    "        \"\"\"Returns potential TSSs of the input data frame\"\"\"\n",
    "\n",
    "        data[\"TSS\"] = \"\"        # initiate the new column that will store the TSS\n",
    "        sig_depth = 10         # Threshold for significant depth\n",
    "        perc_of_inc = 100        # Threshold for the percentage of increase\n",
    "        \n",
    "        mask = (data[\"Depth\"] >= sig_depth) & (data[\"Depth_per_inc\"] >= perc_of_inc)  # This is a boolean variable \n",
    "        data.loc[mask, \"TSS\"] = \"TSS\"   # df.loc[row_condition, column_condition] = value (value to assign to the selected rows and columns)\n",
    "\n",
    "        return data\n",
    "\n",
    "    def TTSs_anot(data):\n",
    "        \"\"\"Return potential TTSs of the input data \"\"\"\n",
    "\n",
    "        data[\"TTS\"] = \"\"    # Create the TTSs column\n",
    "        sig_depth = 200        \n",
    "        perc_of_dec = - 50        # Decrease to the half of its original value. \n",
    "\n",
    "        data[\"Depth_diff_shifted\"] = data[\"Depth_per_inc\"].shift(-1)  # Shift the % of increase to be one row above (otherwise there's a mismatch)\n",
    "        mask = (data[\"Depth\"] >= sig_depth) & (data[\"Depth_diff_shifted\"] <= perc_of_dec)\n",
    "        data.loc[mask, \"TTS\"] = \"TTS\"\n",
    "        \n",
    "        return data\n",
    "\n",
    "\n",
    "    def rm_area_TUs(data):\n",
    "        \"\"\"Checks each TU (TSS or TTS) in its surroundings and keeps the one with the highest (or lowest for TTS) depth value.\"\"\"\n",
    "        \n",
    "        def process_TU(label, depth_func):\n",
    "            for i in range(len(data)):\n",
    "                if data.loc[i, label] == label:\n",
    "                    # Define range of 50 positions above and below\n",
    "                    start = max(i - 5, 0)\n",
    "                    end = min(i + 5, len(data) - 1)\n",
    "                    filtered_rows = data.loc[start:end]\n",
    "                    \n",
    "                    # Get depth values for the current label\n",
    "                    depth_values = filtered_rows[\"Depth\"][filtered_rows[label] == label]\n",
    "                    \n",
    "                    # Find the optimal depth value (max for TSS, min for TTS)\n",
    "                    optimal_depth_value = depth_func(depth_values)\n",
    "                    \n",
    "                    # Identify indices to remove\n",
    "                    indices_to_remove = depth_values[depth_values != optimal_depth_value].index\n",
    "                    \n",
    "                    # Set these indices to an empty string in the original data\n",
    "                    data.loc[indices_to_remove, label] = \"\"\n",
    "        \n",
    "        process_TU(\"TSS\", max)  # Data is directly modified when calling these functions\n",
    "        process_TU(\"TTS\", max)\n",
    "    \n",
    "        return data\n",
    "\n",
    "    # Call the smaller functions in sequence\n",
    "    data = TSSs_anot(data)\n",
    "    data = TTSs_anot(data)\n",
    "    data = rm_area_TUs(data)\n",
    "    return data\n",
    "\n",
    "final_depth_KO1 = TSS_TTS_anotation(gene_depth_KO1)\n",
    "final_depth_KO2 = TSS_TTS_anotation(gene_depth_KO2)\n",
    "final_depth_KO3 = TSS_TTS_anotation(gene_depth_KO3)\n",
    "final_depth_WT1 = TSS_TTS_anotation(gene_depth_WT1)\n",
    "final_depth_WT2 = TSS_TTS_anotation(gene_depth_WT2)\n",
    "final_depth_WT3 = TSS_TTS_anotation(gene_depth_WT3)   "
   ]
  },
  {
   "cell_type": "code",
   "execution_count": 7,
   "metadata": {},
   "outputs": [],
   "source": [
    "# final_depth_KO1.iloc[1- 1 : 2 + 15]  # For TTS location"
   ]
  },
  {
   "cell_type": "code",
   "execution_count": 8,
   "metadata": {},
   "outputs": [],
   "source": [
    "# List of datasets and their corresponding output filenames\n",
    "datasets = [\n",
    "    (final_depth_KO1, \"TUs_depth_KO1.txt\"),\n",
    "    (final_depth_KO2, \"TUs_depth_KO2.txt\"),\n",
    "    (final_depth_KO3, \"TUs_depth_KO3.txt\"),\n",
    "    (final_depth_WT1, \"TUs_depth_WT1.txt\"),\n",
    "    (final_depth_WT2, \"TUs_depth_WT2.txt\"),\n",
    "    (final_depth_WT3, \"TUs_depth_WT3.txt\")\n",
    "]\n",
    "\n",
    "# Columns to drop\n",
    "columns_to_drop = [\"Depth_diff\", \"Depth_per_inc\", \"Depth_diff_shifted\"]\n",
    "\n",
    "# Loop through each dataset, drop unnecessary columns, and save to CSV\n",
    "for data, filename in datasets:\n",
    "    data_dropped = data.drop(columns=columns_to_drop)\n",
    "    data_dropped.to_csv(f\"Data_outputs/Depth_genes_and_TUs/{filename}\", index=False)"
   ]
  },
  {
   "cell_type": "markdown",
   "metadata": {},
   "source": [
    "- Identification of TSS types (leader, leaderless or internal). \n",
    "By focusing on the TSSs, the idea is to loop through each gene in the depth data set and compare the position of the TSS with the starting position of the CDS of the gene. \n",
    "    - If the TSS is +- 5 bp of the start_gene -> Leaderless\n",
    "    - If the TSS is between 150 - 5 bp upstream the start_gene -> Leader\n",
    "    - If the TSS is in the middle of the gene -> Internal"
   ]
  },
  {
   "cell_type": "code",
   "execution_count": 9,
   "metadata": {},
   "outputs": [],
   "source": [
    "def TSS_type(anot_file, depth_data):\n",
    "    \n",
    "    TSS_data = []  # store the Gene (key) and the TSS position and type as tuples\n",
    "    \n",
    "    for i in range(len(depth_data)):\n",
    "    \n",
    "        TSS_pos = 0  # Restart the position at each iteration\n",
    "        closest_difference = None  # Initialize closest difference\n",
    "\n",
    "        if depth_data.loc[i, \"TSS\"] == \"TSS\":  # If the position has a TSS\n",
    "            TSS_pos = depth_data.loc[i,\"Position\"]\n",
    "            gene_name = depth_data.loc[i, \"Gene_name\"]  # extract the gene name of the row\n",
    "            TSS_class = \"Unknown\"  # Default classification\n",
    "            depth = depth_data.loc[i, \"Depth\"]\n",
    "            \n",
    "            # Classify the leader/leaderless genes\n",
    "            if gene_name == \"no_gene\":\n",
    "                # Search in the annotation file the start position that is closer to this position. Reassign the gene name based on this gene. \n",
    "                diff_series = anot_file[\"start\"][anot_file[\"type\"] == \"CDS\"].astype(int) - TSS_pos\n",
    "                positive_diff = diff_series[diff_series > 0]  # Because we want the gene name that is below this position\n",
    "    \n",
    "                if not positive_diff.empty and (positive_diff < 200).any():\n",
    "                    # Find the closest gene with the smallest positive difference\n",
    "                    closest_index = positive_diff.idxmin()  # Get the index of the smallest positive difference\n",
    "                    closest_gene = anot_file.loc[closest_index]  # Use the index to get the row\n",
    "                    gene_name = closest_gene[\"gene_name\"]\n",
    "                    closest_difference = positive_diff.loc[closest_index]  # Get the difference\n",
    "                    # print(closest_difference)\n",
    "                \n",
    "                if closest_difference is not None:  # Only classify if we found a closest gene\n",
    "                    if 5 < closest_difference <= 300:\n",
    "                        TSS_class = \"Leader\"\n",
    "                    elif closest_difference <= 5:\n",
    "                        TSS_class = \"Leaderless\"\n",
    "            \n",
    "            # Classify the internal/leaderless genes\n",
    "            elif gene_name != \"no_gene\":\n",
    "                diff_series = anot_file[\"start\"][anot_file[\"type\"] == \"CDS\"].astype(int) - TSS_pos\n",
    "                negative_diff = diff_series[diff_series < 0]\n",
    "\n",
    "                if not negative_diff.empty:\n",
    "                    # Find the closest gene with the smallest positive difference\n",
    "                    closest_index = negative_diff.idxmax()  # Get the index of the largest negative difference\n",
    "                    closest_difference = negative_diff.loc[closest_index]  # Get the difference\n",
    "\n",
    "                if closest_difference is not None:\n",
    "                    if abs(closest_difference) <= 5:\n",
    "                        TSS_class = \"Leaderless\"\n",
    "                    else:\n",
    "                        TSS_class = \"Internal\"\n",
    "\n",
    "            # Handle the TSSs classified as unknown \n",
    "            if TSS_class == \"Unknown\":\n",
    "                abs_diff_sta = abs(anot_file[\"start\"][anot_file[\"type\"] != \"CDS\"].astype(int) - TSS_pos)\n",
    "                abs_diff_end = abs(anot_file[\"end\"][anot_file[\"type\"] != \"CDS\"].astype(int) - TSS_pos)\n",
    "\n",
    "                # Check if the distance to either the start or end of non-CDS features is less than 200\n",
    "                if (abs_diff_sta < 200).any() or (abs_diff_end < 10).any() :\n",
    "                    closest_sta_index = abs_diff_sta.idxmin()\n",
    "                    closest_end_index = abs_diff_end.idxmin()\n",
    "\n",
    "                # Determine which distance is smaller and classify the TSS\n",
    "                    if abs_diff_sta.loc[closest_sta_index] < abs_diff_end.loc[closest_end_index]:\n",
    "                        closest_index = closest_sta_index\n",
    "                        TSS_class = f\"Unknown_{anot_file.loc[closest_index,'type']}\"\n",
    "                    else:\n",
    "                        closest_index = closest_end_index\n",
    "                        TSS_class = f\"Unknown_{anot_file.loc[closest_index,'type']}\"\n",
    "\n",
    "                    # Extract gene name\n",
    "                    gene_name = anot_file.loc[closest_index,'gene_name']\n",
    "                else:\n",
    "                    TSS_class = \"Unknown\"\n",
    "\n",
    "            # Add the direction of the gene\n",
    "            if gene_name in anot_file[\"gene_name\"].values:\n",
    "                direction = anot_file.loc[anot_file[\"gene_name\"] == gene_name, \"strand\"].iloc[0]\n",
    "            else:\n",
    "                direction = \"Unknown\"  # Handle cases where the gene is not in the annotation file\n",
    "\n",
    "            # Append the TSS information to the list\n",
    "            TSS_data.append({\n",
    "                \"TSS_position\": TSS_pos,\n",
    "                \"TSS_depth\": depth,\n",
    "                \"TSS_type\": TSS_class,\n",
    "                \"Gene_name\": gene_name,\n",
    "                \"Strand\" : direction,\n",
    "            })\n",
    "        \n",
    "        # Convert the list of dictionaries to a DataFrame\n",
    "    TSS_df = pd.DataFrame(TSS_data)\n",
    "                \n",
    "    return  TSS_df       \n",
    "                                  \n",
    "       \n",
    "TSS_list_KO1 = TSS_type(anot_file, final_depth_KO1)\n",
    "TSS_list_KO1.to_excel(\"Data_outputs/TSS_data/KO1_TSS_list.xlsx\", index=False)\n",
    "\n",
    "TSS_list_KO2 = TSS_type(anot_file, final_depth_KO2)\n",
    "TSS_list_KO2.to_excel(\"Data_outputs/TSS_data/KO2_TSS_list.xlsx\", index=False)\n",
    "\n",
    "TSS_list_KO3 = TSS_type(anot_file, final_depth_KO3)\n",
    "TSS_list_KO3.to_excel(\"Data_outputs/TSS_data/KO3_TSS_list.xlsx\", index=False)\n",
    "\n",
    "TSS_list_WT1 = TSS_type(anot_file, final_depth_WT1)\n",
    "TSS_list_WT1.to_excel(\"Data_outputs/TSS_data/WT1_TSS_list.xlsx\", index=False)\n",
    "\n",
    "TSS_list_WT2 = TSS_type(anot_file, final_depth_WT2)\n",
    "TSS_list_WT2.to_excel(\"Data_outputs/TSS_data/WT2_TSS_list.xlsx\", index=False)\n",
    "\n",
    "TSS_list_WT3 = TSS_type(anot_file, final_depth_WT3)\n",
    "TSS_list_WT3.to_excel(\"Data_outputs/TSS_data/WT3_TSS_list.xlsx\", index=False)"
   ]
  },
  {
   "cell_type": "markdown",
   "metadata": {},
   "source": [
    "Get the same type of table for the TTSs for the verification with the replicates."
   ]
  },
  {
   "cell_type": "code",
   "execution_count": 10,
   "metadata": {},
   "outputs": [],
   "source": [
    "def table_TTSs(data):\n",
    "    \"\"\"Converts the depth data to a table with the TTS and the gene it belongs to\"\"\"\n",
    "    \n",
    "    TSSs_data = []\n",
    "    for i in range(len(data)):\n",
    "        if data.loc[i, \"TTS\"] == \"TTS\":\n",
    "           TTS_pos = data.loc[i,\"Position\"]\n",
    "           gen_name = data.loc[i,\"Gene_name\"]\n",
    "           TSSs_data.append({\"TTS_position\":TTS_pos, \"Gene_name\":gen_name}) \n",
    "\n",
    "    TTS_df = pd.DataFrame(TSSs_data)\n",
    "\n",
    "    return TTS_df\n",
    "\n",
    "TTS_list_KO1 = table_TTSs(final_depth_KO1)\n",
    "TTS_list_KO1.to_excel(\"Data_outputs/TTS_data/KO1_TTS_list.xlsx\", index=False)\n",
    "\n",
    "TTS_list_KO2 = table_TTSs(final_depth_KO2)\n",
    "TTS_list_KO2.to_excel(\"Data_outputs/TTS_data/KO2_TTS_list.xlsx\", index=False)\n",
    "\n",
    "TTS_list_KO3 = table_TTSs(final_depth_KO3)\n",
    "TTS_list_KO3.to_excel(\"Data_outputs/TTS_data/KO3_TTS_list.xlsx\", index=False)\n",
    "\n",
    "TTS_list_WT1 = table_TTSs(final_depth_WT1)\n",
    "TTS_list_WT1.to_excel(\"Data_outputs/TTS_data/WT1_TTS_list.xlsx\", index=False)\n",
    "\n",
    "TTS_list_WT2 = table_TTSs(final_depth_WT2)\n",
    "TTS_list_WT2.to_excel(\"Data_outputs/TTS_data/WT2_TTS_list.xlsx\", index=False)\n",
    "\n",
    "TTS_list_WT3 = table_TTSs(final_depth_WT3)\n",
    "TTS_list_WT3.to_excel(\"Data_outputs/TTS_data/WT3_TTS_list.xlsx\", index=False)\n"
   ]
  },
  {
   "cell_type": "markdown",
   "metadata": {},
   "source": [
    "### TSS and TTS verification (individual gene - wise)"
   ]
  },
  {
   "cell_type": "code",
   "execution_count": 11,
   "metadata": {},
   "outputs": [],
   "source": [
    "def final_TUs(data_1, data_2, data_3, TU_type, window=10):\n",
    "    \"\"\"Identify TSS positions present within a defined window across three replicates.\"\"\"\n",
    " \n",
    "    final_positions = []  # List to store the matching positions\n",
    "\n",
    "    # Function to check if position is close to any existing position in the list\n",
    "    def is_position_nearby(pos, final_positions, window):\n",
    "        return any(abs(pos - existing_pos) <= window for existing_pos in final_positions)\n",
    "\n",
    "    for i in range(len(data_1)):\n",
    "        pos_TSS_d1 = data_1.loc[i, f\"{TU_type}_position\"]\n",
    "        \n",
    "        match_in_d2 = any(abs(pos_TSS_d1 - pos_TSS_d2) <= window for pos_TSS_d2 in data_2[f\"{TU_type}_position\"])\n",
    "        match_in_d3 = any(abs(pos_TSS_d1 - pos_TSS_d3) <= window for pos_TSS_d3 in data_3[f\"{TU_type}_position\"])\n",
    "\n",
    "        # If the TSS is found in at least two of the datasets, append it\n",
    "        if match_in_d2 or match_in_d3:            \n",
    "            final_positions.append(data_1.loc[i].to_dict())\n",
    "\n",
    "    for i in range(len(data_2)):\n",
    "        pos_TSS_d2 = data_2.loc[i, f\"{TU_type}_position\"]\n",
    "        \n",
    "        match_in_d2 = any(abs(pos_TSS_d2 - pos_TSS_d3) <= window for pos_TSS_d3 in data_3[f\"{TU_type}_position\"])\n",
    "        \n",
    "        if match_in_d2:\n",
    "            if not is_position_nearby(pos_TSS_d2, [p[f\"{TU_type}_position\"] for p in final_positions], window):\n",
    "                final_positions.append(data_2.loc[i].to_dict())\n",
    "\n",
    "    # Convert the results into a DataFrame\n",
    "    final_df = pd.DataFrame(final_positions)\n",
    "\n",
    "    # Sort the data frame to have the TSS from lowest position to the largest\n",
    "    final_df = final_df.sort_values(by = f\"{TU_type}_position\")\n",
    "\n",
    "    return final_df\n"
   ]
  },
  {
   "cell_type": "code",
   "execution_count": 12,
   "metadata": {},
   "outputs": [],
   "source": [
    "# TSS\n",
    "final_TSS_KO = final_TUs(TSS_list_KO3, TSS_list_KO2, TSS_list_KO1, window=10, TU_type = \"TSS\")\n",
    "final_TSS_KO.to_excel(\"Data_outputs/TSS_data_final/final_TSS_KO.xlsx\", index=False)\n",
    "final_TSS_WT = final_TUs(TSS_list_WT3, TSS_list_WT2, TSS_list_WT1, window=10, TU_type = \"TSS\")\n",
    "final_TSS_WT.to_excel(\"Data_outputs/TSS_data_final/final_TSS_WT.xlsx\", index=False)\n",
    "\n",
    "# TTS\n",
    "final_TTS_KO = final_TUs(TTS_list_KO3, TTS_list_KO2, TTS_list_KO1, window=10, TU_type = \"TTS\")\n",
    "final_TTS_KO.to_excel(\"Data_outputs/TTS_data_final/final_TTS_KO.xlsx\", index=False)\n",
    "final_TTS_WT = final_TUs(TTS_list_WT3, TTS_list_WT2, TTS_list_WT1, window=10, TU_type = \"TTS\")\n",
    "final_TTS_WT.to_excel(\"Data_outputs/TTS_data_final/final_TTS_WT.xlsx\", index=False)"
   ]
  },
  {
   "cell_type": "markdown",
   "metadata": {},
   "source": [
    "For the bar plots, of the final number of TSS, take into consideration that the internal TSS lower than 300 depth value will be filtered out"
   ]
  },
  {
   "cell_type": "code",
   "execution_count": 13,
   "metadata": {},
   "outputs": [],
   "source": [
    "# Filter out those internal containing less than 300 of depth and re do the bar plot and subsequent plots.\n",
    "\n",
    "# The bar plot needs to be thone using final TSS.  m"
   ]
  },
  {
   "cell_type": "code",
   "execution_count": 14,
   "metadata": {},
   "outputs": [
    {
     "data": {
      "image/png": "[encoded data removed]",
      "text/plain": [
       "<Figure size 432x432 with 1 Axes>"
      ]
     },
     "metadata": {
      "needs_background": "light"
     },
     "output_type": "display_data"
    },
    {
     "data": {
      "image/png": "[encoded data removed]",
      "text/plain": [
       "<Figure size 432x432 with 1 Axes>"
      ]
     },
     "metadata": {
      "needs_background": "light"
     },
     "output_type": "display_data"
    }
   ],
   "source": [
    "# Make a bar plot of the length the the TSS and TTS\n",
    "def bar_plot(data1, data2, data3, data_final, TU_type):\n",
    "\n",
    "    counts_data = [len(data1[data1[\"TSS\"] == \"TSS\"]), len(data2[data2[\"TSS\"] == \"TSS\"]), len(data3[data3[\"TSS\"] == \"TSS\"]), len(data_final)]\n",
    "\n",
    "    labels = [f\"{TU_type}1\", f\"{TU_type}2\", f\"{TU_type}3\", f\"{TU_type} final\"]\n",
    "    colors = [\"cornflowerblue\", \"cornflowerblue\", \"cornflowerblue\", \"indianred\",]\n",
    "\n",
    "    plt.figure(figsize=(6,6))\n",
    "    plt.bar(labels, counts_data, color = colors)\n",
    "    for i, counts in enumerate(counts_data):\n",
    "        plt.text(x=i, y= counts + 5, s = str(counts), ha='center', va='bottom', fontsize=14)\n",
    "\n",
    "    plt.title(f\"TSS number per replicate and final ({TU_type})\", fontsize = 17, pad=20)\n",
    "    plt.ylabel(\"TSS number\", fontsize = 15)\n",
    "    plt.xticks(fontsize = 13)\n",
    "    plt.yticks(fontsize = 13)\n",
    "    plt.ylim(0,20000)\n",
    "    plt.show()\n",
    "\n",
    "bar_plot(final_depth_KO1, final_depth_KO2, final_depth_KO3, final_TSS_KO, \"sigK-KO\")\n",
    "bar_plot(final_depth_WT1, final_depth_WT2, final_depth_WT3, final_TSS_WT, \"WT\")\n",
    "\n",
    "# counts_TTS = [len(TUs_depth_KO1[TUs_depth_KO1[\"TTS\"] == \"TTS\"]),\n",
    "#         len(TUs_depth_KO2[TUs_depth_KO2[\"TTS\"] == \"TTS\"]),\n",
    "#         len(TUs_depth_KO3[TUs_depth_KO3[\"TTS\"] == \"TTS\"]),\n",
    "#         len(final_TTS_KO),\n",
    "#         len(TUs_depth_WT1[TUs_depth_WT1[\"TTS\"] == \"TTS\"]),\n",
    "#         len(TUs_depth_WT2[TUs_depth_WT2[\"TTS\"] == \"TTS\"]),\n",
    "#         len(TUs_depth_WT3[TUs_depth_WT3[\"TTS\"] == \"TTS\"]),\n",
    "#         len(final_TTS_WT)]\n",
    "\n",
    "# labels = [\"KO1\", \"KO2\", \"KO3\", \"KO\", \"WT1\", \"WT2\", \"WT3\", \"WT\"]\n",
    "# colors = [\"cornflowerblue\", \"cornflowerblue\", \"cornflowerblue\", \"indianred\", \"cornflowerblue\", \"cornflowerblue\", \"cornflowerblue\", \"indianred\"]\n",
    "\n",
    "# plt.bar(labels, counts_TTS, color = colors)\n",
    "# plt.title(\"TTS number per replicate\")\n",
    "# plt.ylabel(\"Counts\")\n",
    "# plt.show()\n",
    "# print(counts_TTS)\n"
   ]
  },
  {
   "cell_type": "markdown",
   "metadata": {},
   "source": [
    "#### Data analysis (individual gene - wise)\n",
    "Similarity of TSS positions between KO and WT group"
   ]
  },
  {
   "cell_type": "markdown",
   "metadata": {},
   "source": [
    "- TSS position-wise: Here we need to consider that biological data can have some variations, and hence the metrics used will need to account for this variation. "
   ]
  },
  {
   "cell_type": "markdown",
   "metadata": {},
   "source": [
    "final_TSS_KO[\"TSS_position\"]                                              -> pandas object. \n",
    "final_TSS_KO[\"TSS_position\"].values                                       -> numpy array\n",
    "final_TSS_KO[\"TSS_position\"].values - final_TSS_WT[\"TSS_position\"].values -> Error because the lenghts of the arrays differ and the element-wise substraction cannot be computed. \n",
    "\n",
    "GOAL: make a matrix that contains the differences between the different elements. This will be of size (13639, 13818)\n",
    "final_TSS_KO[\"TSS_position\"].values[:, None]  -> creates a column vector (a 2D array with shape (n, 1), where n is the number of positions in final_TSS_KO).\n",
    "final_TSS_WT[\"TSS_position\"].values           -> 1D array with shape (m,), where m is the number of positions in final_TSS_WT\n",
    "\n",
    "Broadcasting -> expands the cols of the array (n,1) to match the ones of (m,), to perform the substraction. Basically each element in the 1D array is substracted from the whole column. That's how we get the matrix (if its hard to udnerstand, try it with smaller numbers)"
   ]
  },
  {
   "cell_type": "code",
   "execution_count": 15,
   "metadata": {},
   "outputs": [
    {
     "name": "stdout",
     "output_type": "stream",
     "text": [
      "10674 559 2406\n"
     ]
    },
    {
     "data": {
      "image/png": "[encoded data removed]",
      "text/plain": [
       "<Figure size 432x432 with 1 Axes>"
      ]
     },
     "metadata": {},
     "output_type": "display_data"
    }
   ],
   "source": [
    "# 1- Make a pie chart which contains percentages of the exact positions that match, the ones that almost match and the ones that do not match (nested for loops are too inefficient, try vectorization)\n",
    "\n",
    "# Get the exact matches\n",
    "exact_matches_KO = final_TSS_KO[\"TSS_position\"].isin(final_TSS_WT[\"TSS_position\"])\n",
    "exact_matches_WT = final_TSS_WT[\"TSS_position\"].isin(final_TSS_KO[\"TSS_position\"])\n",
    "\n",
    "# Perform a preprocess step to remove the exact matches from the dataframes\n",
    "proc_final_TSS_KO = final_TSS_KO[~exact_matches_KO]\n",
    "proc_final_TSS_WT = final_TSS_WT[~exact_matches_WT]\n",
    "\n",
    "# Make the matrix (shape = 13639, 13818) to get the almost matches \n",
    "diff_matrix = np.abs(proc_final_TSS_KO[\"TSS_position\"].values[:, None] - proc_final_TSS_WT[\"TSS_position\"].values)\n",
    "# diff_matrix.shape\n",
    "\n",
    "# Get those numbers whose difference is < 10\n",
    "almost_matches_mask = (diff_matrix < 10).any(axis=1)  # Without the axis, it would check in the entire matrix if there's any TRUE value and it will return TRUE if so. \n",
    "                                                    # by specifing the axis, you are applying the operation along a particular axis, and hence checking each row/column to see if there're any True elements.\n",
    "\n",
    "\n",
    "# Get the total number\n",
    "exact_count = exact_matches_KO.sum()\n",
    "almost_count = almost_matches_mask.sum()\n",
    "no_match_count = len(final_TSS_KO) - (exact_count + almost_count)\n",
    "print(exact_count, almost_count, no_match_count)\n",
    "\n",
    "# Pie chart\n",
    "labels = [\"Exact Matches\", \"Matches with slight variation\", \"No Matches\"]\n",
    "sizes = [exact_count, almost_count, no_match_count]\n",
    "colors = ['#66b3ff', '#99ff99', '#ff6666']\n",
    "\n",
    "\n",
    "plt.figure(figsize=(6, 6))\n",
    "plt.pie(sizes, labels=labels, autopct='%1.1f%%', colors=colors, startangle=90, textprops={'fontsize': 20}, wedgeprops={'linewidth': 1, 'edgecolor': 'black'})\n",
    "plt.title('Match Percentages of TSS Positions Between KO and WT', fontsize = 22, pad = 20)\n",
    "plt.axis('equal') \n",
    "plt.show()"
   ]
  },
  {
   "cell_type": "markdown",
   "metadata": {},
   "source": [
    "2. Focusing on the genes mainly regulated by sigK, get some statistics of the TSS and see how they differ in the WT and KO group."
   ]
  },
  {
   "cell_type": "code",
   "execution_count": 16,
   "metadata": {},
   "outputs": [],
   "source": [
    "downr_gene_names = [\"mpt70\", \"MB2902c\", \"MB0457c\",\"dipZ\", \"mpt83\", \"ufaA1\", \"MB0454c\", \"MB0456c\", \"sigK\"]\n",
    "upr_gene_names = [\"MB1762c\", \"MB1767\", \"MB1768c\", \"MB2019\", \"ctpF\", \"MB2021c\", \"MB2028c\", \"fdxA\", \"hspX\", \"acg\", 'hrp1', \"MB2660c\", \"MB2661\", \"MB3149c\", 'MB3150', 'MB3152c', 'tgs1', 'MB3155']\n",
    "\n",
    "\n",
    "def TSS_Sigk_genes(data, gene_names):\n",
    "    \"\"\"\"\"Returns a dataframe containing the counts of the TSS types per each gene\"\"\"\n",
    "    \n",
    "    dict = {\"Gene_name\":[], \"n_leader\":[], \"n_leaderless\": [], \"n_internal\":[], \"total_TSSs\":[] }\n",
    "    for gene in gene_names:\n",
    "        tss_pd = data[data[\"Gene_name\"] == gene]\n",
    "        n_leader = (tss_pd[\"TSS_type\"] == \"Leader\").sum()\n",
    "        n_leaderless = (tss_pd[\"TSS_type\"] == \"Leaderless\").sum()\n",
    "        n_internal = (tss_pd[\"TSS_type\"] == \"Internal\").sum()\n",
    "        total_TSS = len(tss_pd)\n",
    "\n",
    "        dict[\"Gene_name\"].append(gene)\n",
    "        dict[\"n_leader\"].append(n_leader)\n",
    "        dict[\"n_leaderless\"].append(n_leaderless)\n",
    "        dict[\"n_internal\"].append(n_internal)\n",
    "        dict[\"total_TSSs\"].append(total_TSS)\n",
    "\n",
    "    Sigk_regulon = pd.DataFrame(dict)\n",
    "    return Sigk_regulon\n",
    "\n",
    "TSS_Sigk_genes_KO = TSS_Sigk_genes(final_TSS_KO, downr_gene_names)\n",
    "TSS_Sigk_genes_WT = TSS_Sigk_genes(final_TSS_WT, downr_gene_names)\n",
    "\n"
   ]
  },
  {
   "cell_type": "code",
   "execution_count": 17,
   "metadata": {},
   "outputs": [
    {
     "name": "stdout",
     "output_type": "stream",
     "text": [
      "  Gene_name  n_leader  n_leaderless  n_internal  total_TSSs\n",
      "0     mpt70         0             0           3           3\n",
      "1   MB2902c         0             0           1           1\n",
      "2   MB0457c         0             0           3           3\n",
      "3      dipZ         0             0           6           6\n",
      "4     mpt83         0             0           2           2\n",
      "5     ufaA1         0             0           4           4\n",
      "6   MB0454c         0             0           1           1\n",
      "7   MB0456c         0             0           2           2\n",
      "8      sigK         0             0           4           4\n",
      "  Gene_name  n_leader  n_leaderless  n_internal  total_TSSs\n",
      "0     mpt70         1             0           3           4\n",
      "1   MB2902c         0             0           1           1\n",
      "2   MB0457c         0             0           6           6\n",
      "3      dipZ         0             0          10          10\n",
      "4     mpt83         1             0           1           2\n",
      "5     ufaA1         0             0           7           7\n",
      "6   MB0454c         0             0           2           2\n",
      "7   MB0456c         0             0           4           4\n",
      "8      sigK         0             0           3           3\n"
     ]
    }
   ],
   "source": [
    "print(TSS_Sigk_genes_KO)\n",
    "print(TSS_Sigk_genes_WT)"
   ]
  }
 ],
 "metadata": {
  "kernelspec": {
   "display_name": "py3.9 (quant)",
   "language": "python",
   "name": "quant"
  },
  "language_info": {
   "codemirror_mode": {
    "name": "ipython",
    "version": 3
   },
   "file_extension": ".py",
   "mimetype": "text/x-python",
   "name": "python",
   "nbconvert_exporter": "python",
   "pygments_lexer": "ipython3",
   "version": "3.9.19"
  }
 },
 "nbformat": 4,
 "nbformat_minor": 2
}
